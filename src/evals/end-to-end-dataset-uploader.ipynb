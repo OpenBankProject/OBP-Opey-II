{
 "cells": [
  {
   "cell_type": "code",
   "execution_count": 1,
   "id": "fd60c178-5ebb-431b-8ab6-d4c1c87fb25e",
   "metadata": {},
   "outputs": [
    {
     "data": {
      "text/plain": [
       "True"
      ]
     },
     "execution_count": 1,
     "metadata": {},
     "output_type": "execute_result"
    }
   ],
   "source": [
    "import os\n",
    "from dotenv import load_dotenv\n",
    "\n",
    "load_dotenv()"
   ]
  },
  {
   "cell_type": "code",
   "execution_count": 2,
   "id": "e1081a5e-e6dc-4245-b8a3-08bce2a10add",
   "metadata": {},
   "outputs": [
    {
     "name": "stdout",
     "output_type": "stream",
     "text": [
      "langchain-opey\n"
     ]
    }
   ],
   "source": [
    "# langchain tracing should all be set up from the env\n",
    "# Open source alternative to be found here https://github.com/CapgeminiInventUK/langscout\n",
    "# langsmith is also available self-hosted on the enterprise plan\n",
    "print(os.getenv(\"LANGCHAIN_PROJECT\"))"
   ]
  },
  {
   "cell_type": "code",
   "execution_count": 3,
   "id": "f92613ab-d3df-4599-bdf6-8eff63277cd4",
   "metadata": {},
   "outputs": [
    {
     "data": {
      "text/plain": [
       "LangSmithInfo(version='0.8.67', license_expiration_time=None, batch_ingest_config={'use_multipart_endpoint': True, 'scale_up_qsize_trigger': 1000, 'scale_up_nthreads_limit': 16, 'scale_down_nempty_trigger': 4, 'size_limit': 100, 'size_limit_bytes': 20971520})"
      ]
     },
     "execution_count": 3,
     "metadata": {},
     "output_type": "execute_result"
    }
   ],
   "source": [
    "from langsmith import Client\n",
    "\n",
    "dataset_id = \"f69447c3-83a5-486f-a2dc-fa81c8b9493e\"\n",
    "\n",
    "client = Client()\n",
    "\n",
    "client.info"
   ]
  },
  {
   "cell_type": "code",
   "execution_count": 23,
   "id": "4d46b713-f995-42ba-96e5-b32f15b4f672",
   "metadata": {},
   "outputs": [],
   "source": [
    "example_pairs = [\n",
    "    (\"Get me a list of banks on OBP\",     \"\"\"\n",
    "    Here's a list of some banks available on the Open Bank Project:\n",
    "\n",
    "    1. **The Royal Bank of Scotland**\n",
    "    - ID: rbs\n",
    "    - Website: [www.red-bank-shoreditch.com](http://www.red-bank-shoreditch.com)\n",
    "    - Logo: ![Logo](http://www.red-bank-shoreditch.com/logo.gif)\n",
    "\n",
    "    2. **Test Bank**\n",
    "    - ID: test-bank\n",
    "\n",
    "    3. **Nordea Bank AB**\n",
    "    - ID: nordea\n",
    "    - Website: [www.nordea.com](http://www.nordea.com/)\n",
    "    - Logo: ![Logo](http://logonoid.com/images/nordea-logo.jpg)\n",
    "\n",
    "    4. **Hongkong and Shanghai Bank**\n",
    "    - ID: hsbc-test\n",
    "\n",
    "    5. **Erste Bank Test**\n",
    "    - ID: erste-test\n",
    "\n",
    "    6. **Deutche Bank Test**\n",
    "    - ID: deutche-test\n",
    "\n",
    "    7. **The Bank of X**\n",
    "    - ID: obp-bankx-m\n",
    "    - Website: [www.example.com](https://www.example.com)\n",
    "    - Logo: ![Logo](https://static.openbankproject.com/images/bankx/bankx_logo.png)\n",
    "\n",
    "    8. **The Bank of Y**\n",
    "    - ID: obp-banky-m\n",
    "    - Website: [www.example.com](https://www.example.com)\n",
    "    - Logo: ![Logo](https://static.openbankproject.com/images/banky/banky_logo.png)\n",
    "\n",
    "    9. **ABANCA CORPORACION BANCARIA, S.A.**\n",
    "    - ID: at02-2080--01\n",
    "    - Website: [WWW.ABANCA.COM/ES](http://WWW.ABANCA.COM/ES)\n",
    "    - Logo: ![Logo](http://goo.gl/NS7W1U)\n",
    "\n",
    "    10. **BANCO SANTANDER, S.A.**\n",
    "        - ID: at02-0049--01\n",
    "        - Website: [WWW.BANCOSANTANDER.ES](http://WWW.BANCOSANTANDER.ES)\n",
    "        - Logo: ![Logo](https://goo.gl/T7fywl)\n",
    "\n",
    "    This is just a selection of the banks available. If you need more information or a complete list, feel free to ask!\n",
    "    \"\"\"),\n",
    "    (\"Get me information on the user with email susan.be.29@example.com\",     \"\"\"\n",
    "    Here's the information for the user with the email **susan.be.29@example.com**:\n",
    "\n",
    "    - **User ID**: 7d780516-fa85-463e-8a4f-3e5502a3d995\n",
    "    - **Email**: susan.be.29@example.com\n",
    "    - **Provider ID**: susan.be.29@example.com\n",
    "    - **Provider**: [https://test.openbankproject.com](https://test.openbankproject.com)\n",
    "    - **Username**: susan.be.29@example.com\n",
    "    - **Entitlements**: None\n",
    "    - **Is Deleted**: No\n",
    "    - **Is Locked**: No\n",
    "\n",
    "    If you need more details or have any other questions, feel free to ask!\n",
    "    \"\"\")\n",
    "]"
   ]
  },
  {
   "cell_type": "code",
   "execution_count": 24,
   "id": "f9e787b3-7331-4c63-8a87-5663050f7854",
   "metadata": {},
   "outputs": [],
   "source": [
    "inputs = [{\"input\": pair[0]} for pair in example_pairs]\n",
    "outputs = [{\"output\": pair[-1]} for pair in example_pairs]\n",
    "#print(\"\".join(f\"INPUT: \\n{_input['input']}\\nOUTPUT:\\n{outputs[i]['output']}\\n\\n\" for i, _input in enumerate(inputs)))"
   ]
  },
  {
   "cell_type": "code",
   "execution_count": 25,
   "id": "bed71616-1fd8-4810-ae16-8fc5b003c89a",
   "metadata": {},
   "outputs": [],
   "source": [
    "client.create_examples(\n",
    "    inputs=inputs,\n",
    "    outputs=outputs,\n",
    "    dataset_id=dataset_id\n",
    ")"
   ]
  },
  {
   "cell_type": "code",
   "execution_count": null,
   "id": "c3ba6abe-193d-4f08-a22d-7a561017caa8",
   "metadata": {},
   "outputs": [],
   "source": []
  }
 ],
 "metadata": {
  "kernelspec": {
   "display_name": "opey",
   "language": "python",
   "name": "opey"
  },
  "language_info": {
   "codemirror_mode": {
    "name": "ipython",
    "version": 3
   },
   "file_extension": ".py",
   "mimetype": "text/x-python",
   "name": "python",
   "nbconvert_exporter": "python",
   "pygments_lexer": "ipython3",
   "version": "3.13.0"
  }
 },
 "nbformat": 4,
 "nbformat_minor": 5
}
