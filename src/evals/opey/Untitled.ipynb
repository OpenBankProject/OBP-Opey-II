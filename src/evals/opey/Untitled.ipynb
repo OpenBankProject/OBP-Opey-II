{
 "cells": [
  {
   "cell_type": "code",
   "execution_count": 1,
   "id": "7f86eb87-9e87-42a4-8018-5b033ba7bd79",
   "metadata": {},
   "outputs": [
    {
     "name": "stderr",
     "output_type": "stream",
     "text": [
      "/home/nemo/Projects/TESOBE/OpenBankProject/OBP-Opey-II/src/agent/components/tools.py:78: LangChainBetaWarning: This API is in beta and may change in the future.\n",
      "  endpoint_retrieval_tool = endpoint_retrieval_graph.as_tool(name=\"retrieve_endpoints\")\n"
     ]
    }
   ],
   "source": [
    "from typing import List\n",
    "from agent import opey_graph_eval\n",
    "from langchain_core.messages import AIMessage, HumanMessage"
   ]
  },
  {
   "cell_type": "code",
   "execution_count": 4,
   "id": "66926e97-529b-434d-a094-7d91d006dd9a",
   "metadata": {},
   "outputs": [],
   "source": [
    "def does_retrieve_endpoints(outputs: dict) -> bool:\n",
    "    initial_message = outputs['messages'][1]\n",
    "    \n",
    "    if not isinstance(initial_message, AIMessage):\n",
    "        for message in outputs['messages']:\n",
    "            message.pretty_print()\n",
    "        raise ValueError(f\"Expected an AIMessage to follow the HumanMessage, got {initial_message}\")\n",
    "        \n",
    "    tool_calls = initial_message.tool_calls\n",
    "\n",
    "    assertion = bool(tool_calls and tool_calls[0][\"name\"] == \"retrieve_endpoints\")\n",
    "    return assertion"
   ]
  },
  {
   "cell_type": "code",
   "execution_count": 5,
   "id": "71a38bfe-f7bd-4a83-bd43-797d670d0c39",
   "metadata": {},
   "outputs": [
    {
     "name": "stdout",
     "output_type": "stream",
     "text": [
      "----- DECIDING WHETHER TO SUMMARIZE -----\n",
      "Total tokens in conversation: 16\n",
      "Conversation less than token limit of 50000, Descision: Do not summarize\n",
      "---RETRIEVE ENDPOINTS---\n",
      "---CHECK DOCUMENT RELEVANCE TO QUESTION---\n",
      "---ASSESS GRADED DOCUMENTS---\n",
      "Total retries: 0\n",
      "Documents returned: \n",
      " \n",
      "---DECISION: ALL DOCUMENTS ARE NOT RELEVANT TO QUESTION, TRANSFORM QUERY---\n",
      "---TRANSFORM QUERY---\n",
      "New query: \n",
      "What API endpoints can I use to retrieve a list of banks and their associated account information?\n",
      "\n",
      "---RETRIEVE ENDPOINTS---\n",
      "---CHECK DOCUMENT RELEVANCE TO QUESTION---\n",
      "---ASSESS GRADED DOCUMENTS---\n",
      "Total retries: 1\n",
      "Documents returned: \n",
      " \n",
      "---DECISION: ALL DOCUMENTS ARE NOT RELEVANT TO QUESTION, TRANSFORM QUERY---\n",
      "---TRANSFORM QUERY---\n",
      "New query: \n",
      "What API endpoints can provide a list of banks and their associated information?\n",
      "\n",
      "---RETRIEVE ENDPOINTS---\n",
      "---CHECK DOCUMENT RELEVANCE TO QUESTION---\n",
      "---ASSESS GRADED DOCUMENTS---\n",
      "Total retries: 2\n",
      "Documents returned: \n",
      " \n",
      "---DECISION: RETURN DOCUMENTS---\n",
      "---RETRUN RELEVANT DOCUMENTS---\n",
      "----- DECIDING WHETHER TO SUMMARIZE -----\n",
      "Total tokens in conversation: 61\n",
      "Conversation less than token limit of 50000, Descision: Do not summarize\n"
     ]
    },
    {
     "data": {
      "text/plain": [
       "True"
      ]
     },
     "execution_count": 5,
     "metadata": {},
     "output_type": "execute_result"
    }
   ],
   "source": [
    "example_pairs = [\n",
    "    (\"Get me a list of banks on OBP\", True),\n",
    "    (\"How are you doing?\", False),\n",
    "    (\"Who is the founder of OBP?\", False),\n",
    "    (\"How do I create an ATM?\", True),\n",
    "    (\"How do I add a new user?\", True),\n",
    "]\n",
    "\n",
    "test_input, test_assertion = example_pairs[0]\n",
    "\n",
    "config = {'configurable': {'thread_id': 'test_123'}}\n",
    "\n",
    "actual_answer = await opey_graph_eval.ainvoke({'messages': [HumanMessage(content=test_input)]})\n",
    "does_retrieve_endpoints(actual_answer)"
   ]
  },
  {
   "cell_type": "code",
   "execution_count": null,
   "id": "c90195f2-55a8-499b-853a-cfc5f3141f45",
   "metadata": {},
   "outputs": [],
   "source": []
  }
 ],
 "metadata": {
  "kernelspec": {
   "display_name": "opey",
   "language": "python",
   "name": "opey"
  },
  "language_info": {
   "codemirror_mode": {
    "name": "ipython",
    "version": 3
   },
   "file_extension": ".py",
   "mimetype": "text/x-python",
   "name": "python",
   "nbconvert_exporter": "python",
   "pygments_lexer": "ipython3",
   "version": "3.13.0"
  }
 },
 "nbformat": 4,
 "nbformat_minor": 5
}
