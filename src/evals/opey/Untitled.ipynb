{
 "cells": [
  {
   "cell_type": "code",
<<<<<<< Updated upstream
   "execution_count": 1,
=======
   "execution_count": 7,
>>>>>>> Stashed changes
   "id": "7f86eb87-9e87-42a4-8018-5b033ba7bd79",
   "metadata": {},
   "outputs": [
    {
<<<<<<< Updated upstream
     "name": "stderr",
     "output_type": "stream",
     "text": [
      "/home/nemo/Projects/TESOBE/OpenBankProject/OBP-Opey-II/src/agent/components/tools.py:78: LangChainBetaWarning: This API is in beta and may change in the future.\n",
      "  endpoint_retrieval_tool = endpoint_retrieval_graph.as_tool(name=\"retrieve_endpoints\")\n"
     ]
=======
     "name": "stdout",
     "output_type": "stream",
     "text": [
      "['/home/nemo/anaconda3/envs/opey/lib/python313.zip', '/home/nemo/anaconda3/envs/opey/lib/python3.13', '/home/nemo/anaconda3/envs/opey/lib/python3.13/lib-dynload', '', '/home/nemo/anaconda3/envs/opey/lib/python3.13/site-packages', '/home/nemo/Projects/TESOBE/OpenBankProject/OBP-Opey-II/src/agent', '/home/nemo/Projects/TESOBE/OpenBankProject/OBP-Opey-II/src/agent', '/home/nemo/Projects/TESOBE/OpenBankProject/OBP-Opey-II/src/agent', '../..']\n"
     ]
    },
    {
     "name": "stderr",
     "output_type": "stream",
     "text": [
      "/home/nemo/Projects/TESOBE/OpenBankProject/OBP-Opey-II/src/evals/opey/../../agent/components/tools.py:80: LangChainBetaWarning: This API is in beta and may change in the future.\n",
      "  endpoint_retrieval_tool = endpoint_retrieval_graph.as_tool(name=\"retrieve_endpoints\")\n"
     ]
    },
    {
     "ename": "ImportError",
     "evalue": "cannot import name 'opey_graph_eval' from 'agent' (/home/nemo/Projects/TESOBE/OpenBankProject/OBP-Opey-II/src/evals/opey/../../agent/__init__.py)",
     "output_type": "error",
     "traceback": [
      "\u001b[0;31m---------------------------------------------------------------------------\u001b[0m",
      "\u001b[0;31mImportError\u001b[0m                               Traceback (most recent call last)",
      "Cell \u001b[0;32mIn[7], line 8\u001b[0m\n\u001b[1;32m      5\u001b[0m sys\u001b[38;5;241m.\u001b[39mpath\u001b[38;5;241m.\u001b[39mappend(\u001b[38;5;124m'\u001b[39m\u001b[38;5;124m../..\u001b[39m\u001b[38;5;124m'\u001b[39m)\n\u001b[1;32m      6\u001b[0m \u001b[38;5;28mprint\u001b[39m(sys\u001b[38;5;241m.\u001b[39mpath)\n\u001b[0;32m----> 8\u001b[0m \u001b[38;5;28;01mfrom\u001b[39;00m \u001b[38;5;21;01magent\u001b[39;00m \u001b[38;5;28;01mimport\u001b[39;00m opey_graph_eval\n\u001b[1;32m      9\u001b[0m \u001b[38;5;28;01mfrom\u001b[39;00m \u001b[38;5;21;01mlangchain_core\u001b[39;00m\u001b[38;5;21;01m.\u001b[39;00m\u001b[38;5;21;01mmessages\u001b[39;00m \u001b[38;5;28;01mimport\u001b[39;00m AIMessage, HumanMessage\n",
      "\u001b[0;31mImportError\u001b[0m: cannot import name 'opey_graph_eval' from 'agent' (/home/nemo/Projects/TESOBE/OpenBankProject/OBP-Opey-II/src/evals/opey/../../agent/__init__.py)"
     ]
>>>>>>> Stashed changes
    }
   ],
   "source": [
    "from typing import List\n",
<<<<<<< Updated upstream
=======
    "\n",
    "import sys\n",
    "import os\n",
    "sys.path.append('../..')\n",
    "print(sys.path)\n",
    "\n",
>>>>>>> Stashed changes
    "from agent import opey_graph_eval\n",
    "from langchain_core.messages import AIMessage, HumanMessage"
   ]
  },
  {
   "cell_type": "code",
<<<<<<< Updated upstream
=======
   "execution_count": 2,
   "id": "045e4b5d-3c1d-439d-a454-5c477bbf95b5",
   "metadata": {},
   "outputs": [
    {
     "name": "stdout",
     "output_type": "stream",
     "text": [
      "/home/nemo/Projects/TESOBE/OpenBankProject/OBP-Opey-II/src/evals/opey\n"
     ]
    }
   ],
   "source": [
    "!pwd"
   ]
  },
  {
   "cell_type": "code",
>>>>>>> Stashed changes
   "execution_count": 4,
   "id": "66926e97-529b-434d-a094-7d91d006dd9a",
   "metadata": {},
   "outputs": [],
   "source": [
    "def does_retrieve_endpoints(outputs: dict) -> bool:\n",
    "    initial_message = outputs['messages'][1]\n",
    "    \n",
    "    if not isinstance(initial_message, AIMessage):\n",
    "        for message in outputs['messages']:\n",
    "            message.pretty_print()\n",
    "        raise ValueError(f\"Expected an AIMessage to follow the HumanMessage, got {initial_message}\")\n",
    "        \n",
    "    tool_calls = initial_message.tool_calls\n",
    "\n",
    "    assertion = bool(tool_calls and tool_calls[0][\"name\"] == \"retrieve_endpoints\")\n",
    "    return assertion"
   ]
  },
  {
   "cell_type": "code",
   "execution_count": 5,
   "id": "71a38bfe-f7bd-4a83-bd43-797d670d0c39",
   "metadata": {},
   "outputs": [
    {
     "name": "stdout",
     "output_type": "stream",
     "text": [
      "----- DECIDING WHETHER TO SUMMARIZE -----\n",
      "Total tokens in conversation: 16\n",
      "Conversation less than token limit of 50000, Descision: Do not summarize\n",
      "---RETRIEVE ENDPOINTS---\n",
      "---CHECK DOCUMENT RELEVANCE TO QUESTION---\n",
      "---ASSESS GRADED DOCUMENTS---\n",
      "Total retries: 0\n",
      "Documents returned: \n",
      " \n",
      "---DECISION: ALL DOCUMENTS ARE NOT RELEVANT TO QUESTION, TRANSFORM QUERY---\n",
      "---TRANSFORM QUERY---\n",
      "New query: \n",
      "What API endpoints can I use to retrieve a list of banks and their associated account information?\n",
      "\n",
      "---RETRIEVE ENDPOINTS---\n",
      "---CHECK DOCUMENT RELEVANCE TO QUESTION---\n",
      "---ASSESS GRADED DOCUMENTS---\n",
      "Total retries: 1\n",
      "Documents returned: \n",
      " \n",
      "---DECISION: ALL DOCUMENTS ARE NOT RELEVANT TO QUESTION, TRANSFORM QUERY---\n",
      "---TRANSFORM QUERY---\n",
      "New query: \n",
      "What API endpoints can provide a list of banks and their associated information?\n",
      "\n",
      "---RETRIEVE ENDPOINTS---\n",
      "---CHECK DOCUMENT RELEVANCE TO QUESTION---\n",
      "---ASSESS GRADED DOCUMENTS---\n",
      "Total retries: 2\n",
      "Documents returned: \n",
      " \n",
      "---DECISION: RETURN DOCUMENTS---\n",
      "---RETRUN RELEVANT DOCUMENTS---\n",
      "----- DECIDING WHETHER TO SUMMARIZE -----\n",
      "Total tokens in conversation: 61\n",
      "Conversation less than token limit of 50000, Descision: Do not summarize\n"
     ]
    },
    {
     "data": {
      "text/plain": [
       "True"
      ]
     },
     "execution_count": 5,
     "metadata": {},
     "output_type": "execute_result"
    }
   ],
   "source": [
    "example_pairs = [\n",
    "    (\"Get me a list of banks on OBP\", True),\n",
    "    (\"How are you doing?\", False),\n",
    "    (\"Who is the founder of OBP?\", False),\n",
    "    (\"How do I create an ATM?\", True),\n",
    "    (\"How do I add a new user?\", True),\n",
    "]\n",
    "\n",
    "test_input, test_assertion = example_pairs[0]\n",
    "\n",
    "config = {'configurable': {'thread_id': 'test_123'}}\n",
    "\n",
    "actual_answer = await opey_graph_eval.ainvoke({'messages': [HumanMessage(content=test_input)]})\n",
    "does_retrieve_endpoints(actual_answer)"
   ]
  },
  {
   "cell_type": "code",
   "execution_count": null,
   "id": "c90195f2-55a8-499b-853a-cfc5f3141f45",
   "metadata": {},
   "outputs": [],
   "source": []
  }
 ],
 "metadata": {
  "kernelspec": {
   "display_name": "opey",
   "language": "python",
   "name": "opey"
  },
  "language_info": {
   "codemirror_mode": {
    "name": "ipython",
    "version": 3
   },
   "file_extension": ".py",
   "mimetype": "text/x-python",
   "name": "python",
   "nbconvert_exporter": "python",
   "pygments_lexer": "ipython3",
   "version": "3.13.0"
  }
 },
 "nbformat": 4,
 "nbformat_minor": 5
}
